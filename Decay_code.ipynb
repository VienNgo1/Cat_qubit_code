{
 "cells": [
  {
   "cell_type": "code",
   "execution_count": 1,
   "id": "33f0b3b2",
   "metadata": {},
   "outputs": [],
   "source": [
    "import numpy as np\n",
    "import matplotlib.pyplot as plt\n",
    "import qutip as qt\n",
    "\n",
    "import sim_utils as su\n",
    "KHz = su.KHz"
   ]
  },
  {
   "cell_type": "code",
   "execution_count": 2,
   "id": "217da4eb",
   "metadata": {},
   "outputs": [],
   "source": [
    "cq = su.CQ(nqubits=1)\n",
    "\n",
    "dt = 0.001 / KHz\n",
    "t = np.arange(0., 10./KHz, dt)\n",
    "\n",
    "result = qt.mesolve(cq.H, cq.cat_states()[0], t,\n",
    "                    c_ops=cq.loss_terms(),\n",
    "                    e_ops=[psi * psi.dag() for psi in cq.cat_states()],\n",
    "                    options=qt.Options(store_states=False, store_final_state=True))"
   ]
  },
  {
   "cell_type": "code",
   "execution_count": 3,
   "id": "9d6731e0",
   "metadata": {},
   "outputs": [
    {
     "data": {
      "image/png": "[encoded data removed]",
      "text/plain": [
       "<Figure size 576x360 with 1 Axes>"
      ]
     },
     "metadata": {
      "needs_background": "light"
     },
     "output_type": "display_data"
    }
   ],
   "source": [
    "plt.figure(figsize=(8, 5))\n",
    "z_avg = result.expect[0] - result.expect[1]\n",
    "plt.plot(t * KHz, z_avg, color=\"blue\")\n",
    "\n",
    "#plt.ylim(0.,0.4)\n",
    "plt.xlabel(\"t [$\\mu$s]\", fontsize=15)\n",
    "plt.ylabel(\"$\\langle Z \\\\rangle$\", fontsize=15)\n",
    "plt.tick_params(axis='x', labelsize=12)\n",
    "plt.tick_params(axis='y', labelsize=12)\n",
    "\n",
    "plt.tight_layout()\n",
    "plt.savefig(\"decay.jpg\")"
   ]
  },
  {
   "cell_type": "code",
   "execution_count": null,
   "id": "de7cb6a6",
   "metadata": {},
   "outputs": [],
   "source": []
  }
 ],
 "metadata": {
  "kernelspec": {
   "display_name": "Python 3 (ipykernel)",
   "language": "python",
   "name": "python3"
  },
  "language_info": {
   "codemirror_mode": {
    "name": "ipython",
    "version": 3
   },
   "file_extension": ".py",
   "mimetype": "text/x-python",
   "name": "python",
   "nbconvert_exporter": "python",
   "pygments_lexer": "ipython3",
   "version": "3.9.12"
  }
 },
 "nbformat": 4,
 "nbformat_minor": 5
}
