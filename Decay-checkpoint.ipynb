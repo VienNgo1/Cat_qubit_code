{
 "cells": [
  {
   "cell_type": "code",
   "execution_count": 1,
   "id": "ce712846",
   "metadata": {},
   "outputs": [],
   "source": [
    "import numpy as np\n",
    "import matplotlib.pyplot as plt\n",
    "import qutip as qt\n",
    "\n",
    "import sim_utils2 as su\n",
    "MHz = su.MHz"
   ]
  },
  {
   "cell_type": "code",
   "execution_count": null,
   "id": "088488bf",
   "metadata": {},
   "outputs": [],
   "source": [
    "cq = su.CQ(nqubits=1)\n",
    "\n",
    "dt = 0.001 / MHz\n",
    "t = np.arange(0., 1./MHz, dt)\n",
    "\n",
    "result = qt.mesolve(cq.H, cq.cat_states()[0], t,\n",
    "                    c_ops=cq.loss_terms(),\n",
    "                    e_ops=[psi * psi.dag() for psi in cq.cat_states()],\n",
    "                    options=qt.Options(store_states=False, store_final_state=True))"
   ]
  },
  {
   "cell_type": "code",
   "execution_count": null,
   "id": "49d493e0",
   "metadata": {},
   "outputs": [],
   "source": [
    "plt.figure(figsize=(8, 5))\n",
    "z_avg = result.expect[0] - result.expect[1]\n",
    "plt.plot(t * MHz, z_avg, color=\"black\")\n",
    "\n",
    "from scipy.optimize import curve_fit\n",
    "\n",
    "params, cov = curve_fit(lambda x, a, tau: a * np.exp(-x/tau), t[t>0.4], z_avg[t>0.4])\n",
    "\n",
    "print(\"tau = {0:.4f} +/- {1:.4f} us\".format(params[1], np.sqrt(np.diag(cov))[1]))\n",
    "\n",
    "# plt.plot(t, params[0] * np.exp(-t / params[1]), \"--\", color=\"red\")\n",
    "\n",
    "plt.xlabel(\"t [$\\mu$s]\", fontsize=14)\n",
    "plt.ylabel(\"$\\langle Z \\\\rangle$\", fontsize=14)\n",
    "plt.tight_layout()\n",
    "plt.savefig(\"decay.pdf\")"
   ]
  },
  {
   "cell_type": "code",
   "execution_count": null,
   "id": "43294dd5",
   "metadata": {},
   "outputs": [],
   "source": []
  }
 ],
 "metadata": {
  "kernelspec": {
   "display_name": "Python 3 (ipykernel)",
   "language": "python",
   "name": "python3"
  },
  "language_info": {
   "codemirror_mode": {
    "name": "ipython",
    "version": 3
   },
   "file_extension": ".py",
   "mimetype": "text/x-python",
   "name": "python",
   "nbconvert_exporter": "python",
   "pygments_lexer": "ipython3",
   "version": "3.10.11"
  }
 },
 "nbformat": 4,
 "nbformat_minor": 5
}
